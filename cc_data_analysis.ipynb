{
 "cells": [
  {
   "cell_type": "code",
   "execution_count": 15,
   "metadata": {},
   "outputs": [],
   "source": [
    "# setup\n",
    "import pandas as pd\n",
    "import matplotlib.pyplot as plt\n",
    "from datetime import datetime as dt, date\n",
    "import scipy.stats as st\n"
   ]
  },
  {
   "cell_type": "code",
   "execution_count": 16,
   "metadata": {},
   "outputs": [
    {
     "data": {
      "text/html": [
       "<div>\n",
       "<style scoped>\n",
       "    .dataframe tbody tr th:only-of-type {\n",
       "        vertical-align: middle;\n",
       "    }\n",
       "\n",
       "    .dataframe tbody tr th {\n",
       "        vertical-align: top;\n",
       "    }\n",
       "\n",
       "    .dataframe thead th {\n",
       "        text-align: right;\n",
       "    }\n",
       "</style>\n",
       "<table border=\"1\" class=\"dataframe\">\n",
       "  <thead>\n",
       "    <tr style=\"text-align: right;\">\n",
       "      <th></th>\n",
       "      <th>Unnamed: 0</th>\n",
       "      <th>trans_date_trans_time</th>\n",
       "      <th>category</th>\n",
       "      <th>amt</th>\n",
       "      <th>city</th>\n",
       "      <th>state</th>\n",
       "      <th>lat</th>\n",
       "      <th>long</th>\n",
       "      <th>city_pop</th>\n",
       "      <th>dob</th>\n",
       "      <th>merch_lat</th>\n",
       "      <th>merch_long</th>\n",
       "      <th>gender</th>\n",
       "    </tr>\n",
       "  </thead>\n",
       "  <tbody>\n",
       "    <tr>\n",
       "      <th>0</th>\n",
       "      <td>527442</td>\n",
       "      <td>2020-09-12 04:29:58</td>\n",
       "      <td>shopping_net</td>\n",
       "      <td>4.94</td>\n",
       "      <td>Darien</td>\n",
       "      <td>GA</td>\n",
       "      <td>31.3826</td>\n",
       "      <td>-81.4312</td>\n",
       "      <td>5989</td>\n",
       "      <td>1967-05-05</td>\n",
       "      <td>32.260016</td>\n",
       "      <td>-81.794484</td>\n",
       "      <td>F</td>\n",
       "    </tr>\n",
       "    <tr>\n",
       "      <th>1</th>\n",
       "      <td>538511</td>\n",
       "      <td>2020-09-17 18:28:09</td>\n",
       "      <td>shopping_pos</td>\n",
       "      <td>4.38</td>\n",
       "      <td>Mill Creek</td>\n",
       "      <td>PA</td>\n",
       "      <td>40.4679</td>\n",
       "      <td>-77.8967</td>\n",
       "      <td>1334</td>\n",
       "      <td>1986-12-17</td>\n",
       "      <td>39.472619</td>\n",
       "      <td>-78.244576</td>\n",
       "      <td>F</td>\n",
       "    </tr>\n",
       "    <tr>\n",
       "      <th>2</th>\n",
       "      <td>37539</td>\n",
       "      <td>2019-04-14 17:46:09</td>\n",
       "      <td>home</td>\n",
       "      <td>55.26</td>\n",
       "      <td>Centerview</td>\n",
       "      <td>MO</td>\n",
       "      <td>38.7897</td>\n",
       "      <td>-93.8702</td>\n",
       "      <td>2368</td>\n",
       "      <td>1989-07-17</td>\n",
       "      <td>39.199107</td>\n",
       "      <td>-93.423308</td>\n",
       "      <td>NaN</td>\n",
       "    </tr>\n",
       "    <tr>\n",
       "      <th>3</th>\n",
       "      <td>350429</td>\n",
       "      <td>2020-06-25 16:26:23</td>\n",
       "      <td>kids_pets</td>\n",
       "      <td>48.95</td>\n",
       "      <td>Indianapolis</td>\n",
       "      <td>IN</td>\n",
       "      <td>39.8490</td>\n",
       "      <td>-86.2720</td>\n",
       "      <td>910148</td>\n",
       "      <td>1975-11-30</td>\n",
       "      <td>39.685401</td>\n",
       "      <td>-87.064198</td>\n",
       "      <td>F</td>\n",
       "    </tr>\n",
       "    <tr>\n",
       "      <th>4</th>\n",
       "      <td>561460</td>\n",
       "      <td>2020-09-29 17:18:42</td>\n",
       "      <td>shopping_pos</td>\n",
       "      <td>348.15</td>\n",
       "      <td>Wilmington</td>\n",
       "      <td>NC</td>\n",
       "      <td>34.2651</td>\n",
       "      <td>-77.8670</td>\n",
       "      <td>186140</td>\n",
       "      <td>1983-02-08</td>\n",
       "      <td>34.268060</td>\n",
       "      <td>-78.504405</td>\n",
       "      <td>F</td>\n",
       "    </tr>\n",
       "  </tbody>\n",
       "</table>\n",
       "</div>"
      ],
      "text/plain": [
       "   Unnamed: 0 trans_date_trans_time      category     amt          city state  \\\n",
       "0      527442   2020-09-12 04:29:58  shopping_net    4.94        Darien    GA   \n",
       "1      538511   2020-09-17 18:28:09  shopping_pos    4.38    Mill Creek    PA   \n",
       "2       37539   2019-04-14 17:46:09          home   55.26    Centerview    MO   \n",
       "3      350429   2020-06-25 16:26:23     kids_pets   48.95  Indianapolis    IN   \n",
       "4      561460   2020-09-29 17:18:42  shopping_pos  348.15    Wilmington    NC   \n",
       "\n",
       "       lat     long  city_pop         dob  merch_lat  merch_long gender  \n",
       "0  31.3826 -81.4312      5989  1967-05-05  32.260016  -81.794484      F  \n",
       "1  40.4679 -77.8967      1334  1986-12-17  39.472619  -78.244576      F  \n",
       "2  38.7897 -93.8702      2368  1989-07-17  39.199107  -93.423308    NaN  \n",
       "3  39.8490 -86.2720    910148  1975-11-30  39.685401  -87.064198      F  \n",
       "4  34.2651 -77.8670    186140  1983-02-08  34.268060  -78.504405      F  "
      ]
     },
     "execution_count": 16,
     "metadata": {},
     "output_type": "execute_result"
    }
   ],
   "source": [
    "#read sample csv\n",
    "cc_data = pd.read_csv(r\"C:\\Users\\corym\\OneDrive\\Documents\\Data_Analytics_Bootcamp\\GIT\\Project_1_Group_3\\cc_data.csv\")\n",
    "cc_data.head()"
   ]
  },
  {
   "cell_type": "code",
   "execution_count": 17,
   "metadata": {},
   "outputs": [
    {
     "data": {
      "text/html": [
       "<div>\n",
       "<style scoped>\n",
       "    .dataframe tbody tr th:only-of-type {\n",
       "        vertical-align: middle;\n",
       "    }\n",
       "\n",
       "    .dataframe tbody tr th {\n",
       "        vertical-align: top;\n",
       "    }\n",
       "\n",
       "    .dataframe thead th {\n",
       "        text-align: right;\n",
       "    }\n",
       "</style>\n",
       "<table border=\"1\" class=\"dataframe\">\n",
       "  <thead>\n",
       "    <tr style=\"text-align: right;\">\n",
       "      <th></th>\n",
       "      <th>Unnamed: 0</th>\n",
       "      <th>trans_date_trans_time</th>\n",
       "      <th>category</th>\n",
       "      <th>amt</th>\n",
       "      <th>city</th>\n",
       "      <th>state</th>\n",
       "      <th>lat</th>\n",
       "      <th>long</th>\n",
       "      <th>city_pop</th>\n",
       "      <th>dob</th>\n",
       "      <th>merch_lat</th>\n",
       "      <th>merch_long</th>\n",
       "      <th>gender</th>\n",
       "      <th>Birth Year</th>\n",
       "    </tr>\n",
       "  </thead>\n",
       "  <tbody>\n",
       "    <tr>\n",
       "      <th>0</th>\n",
       "      <td>527442</td>\n",
       "      <td>2020-09-12 04:29:58</td>\n",
       "      <td>shopping_net</td>\n",
       "      <td>4.94</td>\n",
       "      <td>Darien</td>\n",
       "      <td>GA</td>\n",
       "      <td>31.3826</td>\n",
       "      <td>-81.4312</td>\n",
       "      <td>5989</td>\n",
       "      <td>1967-05-05</td>\n",
       "      <td>32.260016</td>\n",
       "      <td>-81.794484</td>\n",
       "      <td>F</td>\n",
       "      <td>1967</td>\n",
       "    </tr>\n",
       "    <tr>\n",
       "      <th>1</th>\n",
       "      <td>538511</td>\n",
       "      <td>2020-09-17 18:28:09</td>\n",
       "      <td>shopping_pos</td>\n",
       "      <td>4.38</td>\n",
       "      <td>Mill Creek</td>\n",
       "      <td>PA</td>\n",
       "      <td>40.4679</td>\n",
       "      <td>-77.8967</td>\n",
       "      <td>1334</td>\n",
       "      <td>1986-12-17</td>\n",
       "      <td>39.472619</td>\n",
       "      <td>-78.244576</td>\n",
       "      <td>F</td>\n",
       "      <td>1986</td>\n",
       "    </tr>\n",
       "    <tr>\n",
       "      <th>2</th>\n",
       "      <td>37539</td>\n",
       "      <td>2019-04-14 17:46:09</td>\n",
       "      <td>home</td>\n",
       "      <td>55.26</td>\n",
       "      <td>Centerview</td>\n",
       "      <td>MO</td>\n",
       "      <td>38.7897</td>\n",
       "      <td>-93.8702</td>\n",
       "      <td>2368</td>\n",
       "      <td>1989-07-17</td>\n",
       "      <td>39.199107</td>\n",
       "      <td>-93.423308</td>\n",
       "      <td>NaN</td>\n",
       "      <td>1989</td>\n",
       "    </tr>\n",
       "    <tr>\n",
       "      <th>3</th>\n",
       "      <td>350429</td>\n",
       "      <td>2020-06-25 16:26:23</td>\n",
       "      <td>kids_pets</td>\n",
       "      <td>48.95</td>\n",
       "      <td>Indianapolis</td>\n",
       "      <td>IN</td>\n",
       "      <td>39.8490</td>\n",
       "      <td>-86.2720</td>\n",
       "      <td>910148</td>\n",
       "      <td>1975-11-30</td>\n",
       "      <td>39.685401</td>\n",
       "      <td>-87.064198</td>\n",
       "      <td>F</td>\n",
       "      <td>1975</td>\n",
       "    </tr>\n",
       "    <tr>\n",
       "      <th>4</th>\n",
       "      <td>561460</td>\n",
       "      <td>2020-09-29 17:18:42</td>\n",
       "      <td>shopping_pos</td>\n",
       "      <td>348.15</td>\n",
       "      <td>Wilmington</td>\n",
       "      <td>NC</td>\n",
       "      <td>34.2651</td>\n",
       "      <td>-77.8670</td>\n",
       "      <td>186140</td>\n",
       "      <td>1983-02-08</td>\n",
       "      <td>34.268060</td>\n",
       "      <td>-78.504405</td>\n",
       "      <td>F</td>\n",
       "      <td>1983</td>\n",
       "    </tr>\n",
       "  </tbody>\n",
       "</table>\n",
       "</div>"
      ],
      "text/plain": [
       "   Unnamed: 0 trans_date_trans_time      category     amt          city state  \\\n",
       "0      527442   2020-09-12 04:29:58  shopping_net    4.94        Darien    GA   \n",
       "1      538511   2020-09-17 18:28:09  shopping_pos    4.38    Mill Creek    PA   \n",
       "2       37539   2019-04-14 17:46:09          home   55.26    Centerview    MO   \n",
       "3      350429   2020-06-25 16:26:23     kids_pets   48.95  Indianapolis    IN   \n",
       "4      561460   2020-09-29 17:18:42  shopping_pos  348.15    Wilmington    NC   \n",
       "\n",
       "       lat     long  city_pop        dob  merch_lat  merch_long gender  \\\n",
       "0  31.3826 -81.4312      5989 1967-05-05  32.260016  -81.794484      F   \n",
       "1  40.4679 -77.8967      1334 1986-12-17  39.472619  -78.244576      F   \n",
       "2  38.7897 -93.8702      2368 1989-07-17  39.199107  -93.423308    NaN   \n",
       "3  39.8490 -86.2720    910148 1975-11-30  39.685401  -87.064198      F   \n",
       "4  34.2651 -77.8670    186140 1983-02-08  34.268060  -78.504405      F   \n",
       "\n",
       "   Birth Year  \n",
       "0        1967  \n",
       "1        1986  \n",
       "2        1989  \n",
       "3        1975  \n",
       "4        1983  "
      ]
     },
     "execution_count": 17,
     "metadata": {},
     "output_type": "execute_result"
    }
   ],
   "source": [
    "#isolate Birth Year\n",
    "cc_data[\"dob\"] = pd.to_datetime(cc_data[\"dob\"])\n",
    "\n",
    "cc_data['Birth Year'] = cc_data[\"dob\"].dt.year.astype(int)\n",
    "\n",
    "cc_data.head()"
   ]
  },
  {
   "cell_type": "code",
   "execution_count": 18,
   "metadata": {},
   "outputs": [],
   "source": [
    "#isolate generation data\n",
    "silgen_list = []\n",
    "boomer_list = []\n",
    "genx_list = []\n",
    "mill_list = []\n",
    "genz_list = []\n",
    "for i in cc_data[\"Birth Year\"]:\n",
    "    if i >= 1928 and i <= 1945:\n",
    "        silgen_list.append(i)\n",
    "    elif i >=1946 and i <= 1964:\n",
    "        boomer_list.append(i)\n",
    "    elif i >=1965 and i <= 1980:\n",
    "        genx_list.append(i)\n",
    "    elif i >=1981 and i <= 1996:\n",
    "        mill_list.append(i)\n",
    "    elif i >=1997 and i <=2010:\n",
    "        genz_list.append(i)\n"
   ]
  },
  {
   "cell_type": "code",
   "execution_count": 19,
   "metadata": {},
   "outputs": [],
   "source": [
    "#convert lists to int format to get counts\n",
    "silgen_list = pd.Series(silgen_list).astype(int)\n",
    "silgen_count = silgen_list.count()\n",
    "\n",
    "boomer_list = pd.Series(boomer_list).astype(int)\n",
    "boomer_count = boomer_list.count()\n",
    "\n",
    "genx_list = pd.Series(genx_list).astype(int)\n",
    "genx_count = genx_list.count()\n",
    "\n",
    "mill_list = pd.Series(mill_list).astype(int)\n",
    "mill_count = mill_list.count()\n",
    "\n",
    "genz_list = pd.Series(genz_list).astype(int)\n",
    "genz_count = genz_list.count()"
   ]
  },
  {
   "cell_type": "code",
   "execution_count": 20,
   "metadata": {},
   "outputs": [
    {
     "data": {
      "text/html": [
       "<div>\n",
       "<style scoped>\n",
       "    .dataframe tbody tr th:only-of-type {\n",
       "        vertical-align: middle;\n",
       "    }\n",
       "\n",
       "    .dataframe tbody tr th {\n",
       "        vertical-align: top;\n",
       "    }\n",
       "\n",
       "    .dataframe thead th {\n",
       "        text-align: right;\n",
       "    }\n",
       "</style>\n",
       "<table border=\"1\" class=\"dataframe\">\n",
       "  <thead>\n",
       "    <tr style=\"text-align: right;\">\n",
       "      <th></th>\n",
       "      <th>Silent</th>\n",
       "      <th>Baby Boomer</th>\n",
       "      <th>X</th>\n",
       "      <th>Millenial</th>\n",
       "      <th>Z</th>\n",
       "    </tr>\n",
       "  </thead>\n",
       "  <tbody>\n",
       "    <tr>\n",
       "      <th>0</th>\n",
       "      <td>824</td>\n",
       "      <td>1898</td>\n",
       "      <td>3324</td>\n",
       "      <td>3223</td>\n",
       "      <td>662</td>\n",
       "    </tr>\n",
       "  </tbody>\n",
       "</table>\n",
       "</div>"
      ],
      "text/plain": [
       "   Silent  Baby Boomer     X  Millenial    Z\n",
       "0     824         1898  3324       3223  662"
      ]
     },
     "execution_count": 20,
     "metadata": {},
     "output_type": "execute_result"
    }
   ],
   "source": [
    "#create DF of Generation Counts\n",
    "generationcountdf = pd.DataFrame({\"Silent\":[silgen_count], \"Baby Boomer\": [boomer_count], \"X\": [genx_count], \"Millenial\": [mill_count], \"Z\":[genz_count]})\n",
    "generationcountdf"
   ]
  },
  {
   "cell_type": "code",
   "execution_count": 21,
   "metadata": {},
   "outputs": [
    {
     "data": {
      "image/png": "[encoded data removed]",
      "text/plain": [
       "<Figure size 640x480 with 1 Axes>"
      ]
     },
     "metadata": {},
     "output_type": "display_data"
    }
   ],
   "source": [
    "#create bar plot of generation data\n",
    "generationbar = generationcountdf.plot.bar()"
   ]
  },
  {
   "cell_type": "code",
   "execution_count": 22,
   "metadata": {},
   "outputs": [
    {
     "data": {
      "text/plain": [
       "True"
      ]
     },
     "execution_count": 22,
     "metadata": {},
     "output_type": "execute_result"
    }
   ],
   "source": [
    "#testing for null data\n",
    "nulltest = cc_data.isnull().values.any()\n",
    "nulltest\n"
   ]
  },
  {
   "cell_type": "code",
   "execution_count": 23,
   "metadata": {},
   "outputs": [],
   "source": [
    "#create scatter plot of age and fraud ammounts\n",
    "cc_data['age'] = 2024 - cc_data['Birth Year']\n",
    "\n"
   ]
  },
  {
   "cell_type": "code",
   "execution_count": 24,
   "metadata": {},
   "outputs": [
    {
     "name": "stdout",
     "output_type": "stream",
     "text": [
      "The correlation between age and transaction amounts is 0.01.\n"
     ]
    },
    {
     "data": {
      "image/png": "[encoded data removed]",
      "text/plain": [
       "<Figure size 640x480 with 1 Axes>"
      ]
     },
     "metadata": {},
     "output_type": "display_data"
    }
   ],
   "source": [
    "Age = cc_data['age']\n",
    "Amount = cc_data['amt']\n",
    "correlation = st.pearsonr(Age, Amount)\n",
    "(slope, intercept, rvalue, pvalue, stderr) = st.linregress(Age, Amount)\n",
    "regression = Age * slope + intercept\n",
    "line_eq = \"y = \" + str(round(slope,2)) + \"x + \" + str(round(intercept,2))\n",
    "plt.scatter(Age, Amount)\n",
    "plt.plot(Age,regression,\"r-\")\n",
    "plt.xlabel(\"Age\")\n",
    "plt.ylabel(\"Transaction Amounts\")\n",
    "print(f\"The correlation between age and transaction amounts is {round(correlation[0], 2)}.\")\n",
    "plt.show()"
   ]
  },
  {
   "cell_type": "code",
   "execution_count": 25,
   "metadata": {},
   "outputs": [
    {
     "name": "stdout",
     "output_type": "stream",
     "text": [
      "The correlation between City Population and transaction amounts is 0.01.\n"
     ]
    },
    {
     "data": {
      "image/png": "[encoded data removed]",
      "text/plain": [
       "<Figure size 640x480 with 1 Axes>"
      ]
     },
     "metadata": {},
     "output_type": "display_data"
    }
   ],
   "source": [
    "pop = cc_data['city_pop']\n",
    "Amount = cc_data['amt']\n",
    "correlation = st.pearsonr(pop, Amount)\n",
    "(slope, intercept, rvalue, pvalue, stderr) = st.linregress(pop, Amount)\n",
    "regression = pop * slope + intercept\n",
    "line_eq = \"y = \" + str(round(slope,2)) + \"x + \" + str(round(intercept,2))\n",
    "plt.scatter(pop, Amount)\n",
    "plt.plot(pop,regression,\"r-\")\n",
    "plt.xlabel(\"Population\")\n",
    "plt.ylabel(\"Transaction Amounts\")\n",
    "print(f\"The correlation between City Population and transaction amounts is {round(correlation[0], 2)}.\")\n",
    "plt.ticklabel_format(axis = 'x', style = 'plain')\n",
    "plt.show()"
   ]
  }
 ],
 "metadata": {
  "kernelspec": {
   "display_name": "dev",
   "language": "python",
   "name": "python3"
  },
  "language_info": {
   "codemirror_mode": {
    "name": "ipython",
    "version": 3
   },
   "file_extension": ".py",
   "mimetype": "text/x-python",
   "name": "python",
   "nbconvert_exporter": "python",
   "pygments_lexer": "ipython3",
   "version": "3.10.13"
  }
 },
 "nbformat": 4,
 "nbformat_minor": 2
}
