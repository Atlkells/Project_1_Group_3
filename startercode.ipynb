{
 "cells": [
  {
   "cell_type": "code",
   "execution_count": 1,
   "metadata": {},
   "outputs": [],
   "source": [
    "# setup\n",
    "import pandas as pd\n",
    "import matplotlib.pyplot as plt\n",
    "from datetime import datetime as dt, date\n",
    "import scipy.stats as st\n"
   ]
  },
  {
   "cell_type": "code",
   "execution_count": 2,
   "metadata": {},
   "outputs": [
    {
     "data": {
      "text/html": [
       "<div>\n",
       "<style scoped>\n",
       "    .dataframe tbody tr th:only-of-type {\n",
       "        vertical-align: middle;\n",
       "    }\n",
       "\n",
       "    .dataframe tbody tr th {\n",
       "        vertical-align: top;\n",
       "    }\n",
       "\n",
       "    .dataframe thead th {\n",
       "        text-align: right;\n",
       "    }\n",
       "</style>\n",
       "<table border=\"1\" class=\"dataframe\">\n",
       "  <thead>\n",
       "    <tr style=\"text-align: right;\">\n",
       "      <th></th>\n",
       "      <th>Unnamed: 0</th>\n",
       "      <th>trans_date_trans_time</th>\n",
       "      <th>category</th>\n",
       "      <th>amt</th>\n",
       "      <th>gender</th>\n",
       "      <th>city</th>\n",
       "      <th>state</th>\n",
       "      <th>lat</th>\n",
       "      <th>long</th>\n",
       "      <th>city_pop</th>\n",
       "      <th>dob</th>\n",
       "      <th>merch_lat</th>\n",
       "      <th>merch_long</th>\n",
       "    </tr>\n",
       "  </thead>\n",
       "  <tbody>\n",
       "    <tr>\n",
       "      <th>0</th>\n",
       "      <td>264582</td>\n",
       "      <td>2020-09-27 09:41:48</td>\n",
       "      <td>gas_transport</td>\n",
       "      <td>63.12</td>\n",
       "      <td>F</td>\n",
       "      <td>Orient</td>\n",
       "      <td>WA</td>\n",
       "      <td>48.8878</td>\n",
       "      <td>-118.2105</td>\n",
       "      <td>149</td>\n",
       "      <td>1978-06-21</td>\n",
       "      <td>48.633738</td>\n",
       "      <td>-118.039422</td>\n",
       "    </tr>\n",
       "    <tr>\n",
       "      <th>1</th>\n",
       "      <td>350571</td>\n",
       "      <td>2020-11-03 11:29:38</td>\n",
       "      <td>gas_transport</td>\n",
       "      <td>68.82</td>\n",
       "      <td>F</td>\n",
       "      <td>Enola</td>\n",
       "      <td>AR</td>\n",
       "      <td>35.2087</td>\n",
       "      <td>-92.2123</td>\n",
       "      <td>969</td>\n",
       "      <td>1954-01-05</td>\n",
       "      <td>36.179802</td>\n",
       "      <td>-92.650560</td>\n",
       "    </tr>\n",
       "    <tr>\n",
       "      <th>2</th>\n",
       "      <td>456043</td>\n",
       "      <td>2020-12-09 16:24:42</td>\n",
       "      <td>home</td>\n",
       "      <td>100.85</td>\n",
       "      <td>F</td>\n",
       "      <td>Orangeburg</td>\n",
       "      <td>NY</td>\n",
       "      <td>41.0442</td>\n",
       "      <td>-73.9609</td>\n",
       "      <td>5950</td>\n",
       "      <td>1971-07-02</td>\n",
       "      <td>41.535820</td>\n",
       "      <td>-73.171710</td>\n",
       "    </tr>\n",
       "    <tr>\n",
       "      <th>3</th>\n",
       "      <td>537676</td>\n",
       "      <td>2020-12-28 04:18:11</td>\n",
       "      <td>entertainment</td>\n",
       "      <td>7.84</td>\n",
       "      <td>F</td>\n",
       "      <td>Gadsden</td>\n",
       "      <td>AL</td>\n",
       "      <td>34.0480</td>\n",
       "      <td>-85.9246</td>\n",
       "      <td>67082</td>\n",
       "      <td>1963-02-09</td>\n",
       "      <td>33.307946</td>\n",
       "      <td>-86.376173</td>\n",
       "    </tr>\n",
       "    <tr>\n",
       "      <th>4</th>\n",
       "      <td>19760</td>\n",
       "      <td>2020-06-28 10:16:40</td>\n",
       "      <td>misc_pos</td>\n",
       "      <td>16.00</td>\n",
       "      <td>M</td>\n",
       "      <td>Minnesota Lake</td>\n",
       "      <td>MN</td>\n",
       "      <td>43.8295</td>\n",
       "      <td>-93.8282</td>\n",
       "      <td>1087</td>\n",
       "      <td>1963-07-14</td>\n",
       "      <td>44.091922</td>\n",
       "      <td>-93.247544</td>\n",
       "    </tr>\n",
       "  </tbody>\n",
       "</table>\n",
       "</div>"
      ],
      "text/plain": [
       "   Unnamed: 0 trans_date_trans_time       category     amt gender  \\\n",
       "0      264582   2020-09-27 09:41:48  gas_transport   63.12      F   \n",
       "1      350571   2020-11-03 11:29:38  gas_transport   68.82      F   \n",
       "2      456043   2020-12-09 16:24:42           home  100.85      F   \n",
       "3      537676   2020-12-28 04:18:11  entertainment    7.84      F   \n",
       "4       19760   2020-06-28 10:16:40       misc_pos   16.00      M   \n",
       "\n",
       "             city state      lat      long  city_pop         dob  merch_lat  \\\n",
       "0          Orient    WA  48.8878 -118.2105       149  1978-06-21  48.633738   \n",
       "1           Enola    AR  35.2087  -92.2123       969  1954-01-05  36.179802   \n",
       "2      Orangeburg    NY  41.0442  -73.9609      5950  1971-07-02  41.535820   \n",
       "3         Gadsden    AL  34.0480  -85.9246     67082  1963-02-09  33.307946   \n",
       "4  Minnesota Lake    MN  43.8295  -93.8282      1087  1963-07-14  44.091922   \n",
       "\n",
       "   merch_long  \n",
       "0 -118.039422  \n",
       "1  -92.650560  \n",
       "2  -73.171710  \n",
       "3  -86.376173  \n",
       "4  -93.247544  "
      ]
     },
     "execution_count": 2,
     "metadata": {},
     "output_type": "execute_result"
    }
   ],
   "source": [
    "#read sample csv\n",
    "cc_data = pd.read_csv(r\"C:\\Users\\corym\\OneDrive\\Documents\\Data_Analytics_Bootcamp\\GIT\\Project_1_Group_3\\cc_data.csv\")\n",
    "cc_data.head()"
   ]
  },
  {
   "cell_type": "code",
   "execution_count": 3,
   "metadata": {},
   "outputs": [
    {
     "data": {
      "text/html": [
       "<div>\n",
       "<style scoped>\n",
       "    .dataframe tbody tr th:only-of-type {\n",
       "        vertical-align: middle;\n",
       "    }\n",
       "\n",
       "    .dataframe tbody tr th {\n",
       "        vertical-align: top;\n",
       "    }\n",
       "\n",
       "    .dataframe thead th {\n",
       "        text-align: right;\n",
       "    }\n",
       "</style>\n",
       "<table border=\"1\" class=\"dataframe\">\n",
       "  <thead>\n",
       "    <tr style=\"text-align: right;\">\n",
       "      <th></th>\n",
       "      <th>Unnamed: 0</th>\n",
       "      <th>trans_date_trans_time</th>\n",
       "      <th>category</th>\n",
       "      <th>amt</th>\n",
       "      <th>gender</th>\n",
       "      <th>city</th>\n",
       "      <th>state</th>\n",
       "      <th>lat</th>\n",
       "      <th>long</th>\n",
       "      <th>city_pop</th>\n",
       "      <th>dob</th>\n",
       "      <th>merch_lat</th>\n",
       "      <th>merch_long</th>\n",
       "      <th>Birth Year</th>\n",
       "    </tr>\n",
       "  </thead>\n",
       "  <tbody>\n",
       "    <tr>\n",
       "      <th>0</th>\n",
       "      <td>264582</td>\n",
       "      <td>2020-09-27 09:41:48</td>\n",
       "      <td>gas_transport</td>\n",
       "      <td>63.12</td>\n",
       "      <td>F</td>\n",
       "      <td>Orient</td>\n",
       "      <td>WA</td>\n",
       "      <td>48.8878</td>\n",
       "      <td>-118.2105</td>\n",
       "      <td>149</td>\n",
       "      <td>1978-06-21</td>\n",
       "      <td>48.633738</td>\n",
       "      <td>-118.039422</td>\n",
       "      <td>1978</td>\n",
       "    </tr>\n",
       "    <tr>\n",
       "      <th>1</th>\n",
       "      <td>350571</td>\n",
       "      <td>2020-11-03 11:29:38</td>\n",
       "      <td>gas_transport</td>\n",
       "      <td>68.82</td>\n",
       "      <td>F</td>\n",
       "      <td>Enola</td>\n",
       "      <td>AR</td>\n",
       "      <td>35.2087</td>\n",
       "      <td>-92.2123</td>\n",
       "      <td>969</td>\n",
       "      <td>1954-01-05</td>\n",
       "      <td>36.179802</td>\n",
       "      <td>-92.650560</td>\n",
       "      <td>1954</td>\n",
       "    </tr>\n",
       "    <tr>\n",
       "      <th>2</th>\n",
       "      <td>456043</td>\n",
       "      <td>2020-12-09 16:24:42</td>\n",
       "      <td>home</td>\n",
       "      <td>100.85</td>\n",
       "      <td>F</td>\n",
       "      <td>Orangeburg</td>\n",
       "      <td>NY</td>\n",
       "      <td>41.0442</td>\n",
       "      <td>-73.9609</td>\n",
       "      <td>5950</td>\n",
       "      <td>1971-07-02</td>\n",
       "      <td>41.535820</td>\n",
       "      <td>-73.171710</td>\n",
       "      <td>1971</td>\n",
       "    </tr>\n",
       "    <tr>\n",
       "      <th>3</th>\n",
       "      <td>537676</td>\n",
       "      <td>2020-12-28 04:18:11</td>\n",
       "      <td>entertainment</td>\n",
       "      <td>7.84</td>\n",
       "      <td>F</td>\n",
       "      <td>Gadsden</td>\n",
       "      <td>AL</td>\n",
       "      <td>34.0480</td>\n",
       "      <td>-85.9246</td>\n",
       "      <td>67082</td>\n",
       "      <td>1963-02-09</td>\n",
       "      <td>33.307946</td>\n",
       "      <td>-86.376173</td>\n",
       "      <td>1963</td>\n",
       "    </tr>\n",
       "    <tr>\n",
       "      <th>4</th>\n",
       "      <td>19760</td>\n",
       "      <td>2020-06-28 10:16:40</td>\n",
       "      <td>misc_pos</td>\n",
       "      <td>16.00</td>\n",
       "      <td>M</td>\n",
       "      <td>Minnesota Lake</td>\n",
       "      <td>MN</td>\n",
       "      <td>43.8295</td>\n",
       "      <td>-93.8282</td>\n",
       "      <td>1087</td>\n",
       "      <td>1963-07-14</td>\n",
       "      <td>44.091922</td>\n",
       "      <td>-93.247544</td>\n",
       "      <td>1963</td>\n",
       "    </tr>\n",
       "  </tbody>\n",
       "</table>\n",
       "</div>"
      ],
      "text/plain": [
       "   Unnamed: 0 trans_date_trans_time       category     amt gender  \\\n",
       "0      264582   2020-09-27 09:41:48  gas_transport   63.12      F   \n",
       "1      350571   2020-11-03 11:29:38  gas_transport   68.82      F   \n",
       "2      456043   2020-12-09 16:24:42           home  100.85      F   \n",
       "3      537676   2020-12-28 04:18:11  entertainment    7.84      F   \n",
       "4       19760   2020-06-28 10:16:40       misc_pos   16.00      M   \n",
       "\n",
       "             city state      lat      long  city_pop        dob  merch_lat  \\\n",
       "0          Orient    WA  48.8878 -118.2105       149 1978-06-21  48.633738   \n",
       "1           Enola    AR  35.2087  -92.2123       969 1954-01-05  36.179802   \n",
       "2      Orangeburg    NY  41.0442  -73.9609      5950 1971-07-02  41.535820   \n",
       "3         Gadsden    AL  34.0480  -85.9246     67082 1963-02-09  33.307946   \n",
       "4  Minnesota Lake    MN  43.8295  -93.8282      1087 1963-07-14  44.091922   \n",
       "\n",
       "   merch_long  Birth Year  \n",
       "0 -118.039422        1978  \n",
       "1  -92.650560        1954  \n",
       "2  -73.171710        1971  \n",
       "3  -86.376173        1963  \n",
       "4  -93.247544        1963  "
      ]
     },
     "execution_count": 3,
     "metadata": {},
     "output_type": "execute_result"
    }
   ],
   "source": [
    "#isolate Birth Year\n",
    "cc_data[\"dob\"] = pd.to_datetime(cc_data[\"dob\"])\n",
    "\n",
    "cc_data['Birth Year'] = cc_data[\"dob\"].dt.year.astype(int)\n",
    "\n",
    "cc_data.head()"
   ]
  },
  {
   "cell_type": "code",
   "execution_count": 4,
   "metadata": {},
   "outputs": [],
   "source": [
    "#isolate generation data\n",
    "silgen_list = []\n",
    "boomer_list = []\n",
    "genx_list = []\n",
    "mill_list = []\n",
    "genz_list = []\n",
    "for i in cc_data[\"Birth Year\"]:\n",
    "    if i >= 1928 and i <= 1945:\n",
    "        silgen_list.append(i)\n",
    "    elif i >=1946 and i <= 1964:\n",
    "        boomer_list.append(i)\n",
    "    elif i >=1965 and i <= 1980:\n",
    "        genx_list.append(i)\n",
    "    elif i >=1981 and i <= 1996:\n",
    "        mill_list.append(i)\n",
    "    elif i >=1997 and i <=2010:\n",
    "        genz_list.append(i)\n"
   ]
  },
  {
   "cell_type": "code",
   "execution_count": 5,
   "metadata": {},
   "outputs": [],
   "source": [
    "#convert lists to int format to get counts\n",
    "silgen_list = pd.Series(silgen_list).astype(int)\n",
    "silgen_count = silgen_list.count()\n",
    "\n",
    "boomer_list = pd.Series(boomer_list).astype(int)\n",
    "boomer_count = boomer_list.count()\n",
    "\n",
    "genx_list = pd.Series(genx_list).astype(int)\n",
    "genx_count = genx_list.count()\n",
    "\n",
    "mill_list = pd.Series(mill_list).astype(int)\n",
    "mill_count = mill_list.count()\n",
    "\n",
    "genz_list = pd.Series(genz_list).astype(int)\n",
    "genz_count = genz_list.count()"
   ]
  },
  {
   "cell_type": "code",
   "execution_count": 6,
   "metadata": {},
   "outputs": [
    {
     "data": {
      "text/html": [
       "<div>\n",
       "<style scoped>\n",
       "    .dataframe tbody tr th:only-of-type {\n",
       "        vertical-align: middle;\n",
       "    }\n",
       "\n",
       "    .dataframe tbody tr th {\n",
       "        vertical-align: top;\n",
       "    }\n",
       "\n",
       "    .dataframe thead th {\n",
       "        text-align: right;\n",
       "    }\n",
       "</style>\n",
       "<table border=\"1\" class=\"dataframe\">\n",
       "  <thead>\n",
       "    <tr style=\"text-align: right;\">\n",
       "      <th></th>\n",
       "      <th>Silent</th>\n",
       "      <th>Baby Boomer</th>\n",
       "      <th>X</th>\n",
       "      <th>Millenial</th>\n",
       "      <th>Z</th>\n",
       "    </tr>\n",
       "  </thead>\n",
       "  <tbody>\n",
       "    <tr>\n",
       "      <th>0</th>\n",
       "      <td>738</td>\n",
       "      <td>1943</td>\n",
       "      <td>3262</td>\n",
       "      <td>3204</td>\n",
       "      <td>759</td>\n",
       "    </tr>\n",
       "  </tbody>\n",
       "</table>\n",
       "</div>"
      ],
      "text/plain": [
       "   Silent  Baby Boomer     X  Millenial    Z\n",
       "0     738         1943  3262       3204  759"
      ]
     },
     "execution_count": 6,
     "metadata": {},
     "output_type": "execute_result"
    }
   ],
   "source": [
    "#create DF of Generation Counts\n",
    "generationcountdf = pd.DataFrame({\"Silent\":[silgen_count], \"Baby Boomer\": [boomer_count], \"X\": [genx_count], \"Millenial\": [mill_count], \"Z\":[genz_count]})\n",
    "generationcountdf"
   ]
  },
  {
   "cell_type": "code",
   "execution_count": 7,
   "metadata": {},
   "outputs": [
    {
     "data": {
      "image/png": "[encoded data removed]",
      "text/plain": [
       "<Figure size 640x480 with 1 Axes>"
      ]
     },
     "metadata": {},
     "output_type": "display_data"
    }
   ],
   "source": [
    "#create bar plot of generation data\n",
    "generationbar = generationcountdf.plot.bar()"
   ]
  },
  {
   "cell_type": "code",
   "execution_count": 8,
   "metadata": {},
   "outputs": [],
   "source": [
    "#testing for null data\n",
    "nulltest = cc_data.isnull().values.any()\n"
   ]
  },
  {
   "cell_type": "code",
   "execution_count": 9,
   "metadata": {},
   "outputs": [],
   "source": [
    "#create scatter plot of age and fraud ammounts\n",
    "cc_data['age'] = 2024 - cc_data['Birth Year']\n",
    "\n"
   ]
  },
  {
   "cell_type": "code",
   "execution_count": 10,
   "metadata": {},
   "outputs": [
    {
     "name": "stdout",
     "output_type": "stream",
     "text": [
      "The correlation between age and transaction amounts is -0.02.\n"
     ]
    },
    {
     "data": {
      "image/png": "[encoded data removed]",
      "text/plain": [
       "<Figure size 640x480 with 1 Axes>"
      ]
     },
     "metadata": {},
     "output_type": "display_data"
    }
   ],
   "source": [
    "Age = cc_data['age']\n",
    "Amount = cc_data['amt']\n",
    "correlation = st.pearsonr(Age, Amount)\n",
    "(slope, intercept, rvalue, pvalue, stderr) = st.linregress(Age, Amount)\n",
    "regression = Age * slope + intercept\n",
    "line_eq = \"y = \" + str(round(slope,2)) + \"x + \" + str(round(intercept,2))\n",
    "plt.scatter(Age, Amount)\n",
    "plt.plot(Age,regression,\"r-\")\n",
    "plt.xlabel(\"Age\")\n",
    "plt.ylabel(\"Transaction Amounts\")\n",
    "print(f\"The correlation between age and transaction amounts is {round(correlation[0], 2)}.\")\n",
    "plt.show()"
   ]
  },
  {
   "cell_type": "code",
   "execution_count": 13,
   "metadata": {},
   "outputs": [
    {
     "name": "stdout",
     "output_type": "stream",
     "text": [
      "The correlation between City Population and transaction amounts is 0.0.\n"
     ]
    },
    {
     "data": {
      "image/png": "[encoded data removed]",
      "text/plain": [
       "<Figure size 640x480 with 1 Axes>"
      ]
     },
     "metadata": {},
     "output_type": "display_data"
    }
   ],
   "source": [
    "pop = cc_data['city_pop']\n",
    "Amount = cc_data['amt']\n",
    "correlation = st.pearsonr(pop, Amount)\n",
    "(slope, intercept, rvalue, pvalue, stderr) = st.linregress(pop, Amount)\n",
    "regression = pop * slope + intercept\n",
    "line_eq = \"y = \" + str(round(slope,2)) + \"x + \" + str(round(intercept,2))\n",
    "plt.scatter(pop, Amount)\n",
    "plt.plot(pop,regression,\"r-\")\n",
    "plt.xlabel(\"Population\")\n",
    "plt.ylabel(\"Transaction Amounts\")\n",
    "print(f\"The correlation between City Population and transaction amounts is {round(correlation[0], 2)}.\")\n",
    "plt.ticklabel_format(axis = 'x', style = 'plain')\n",
    "plt.show()"
   ]
  }
 ],
 "metadata": {
  "kernelspec": {
   "display_name": "dev",
   "language": "python",
   "name": "python3"
  },
  "language_info": {
   "codemirror_mode": {
    "name": "ipython",
    "version": 3
   },
   "file_extension": ".py",
   "mimetype": "text/x-python",
   "name": "python",
   "nbconvert_exporter": "python",
   "pygments_lexer": "ipython3",
   "version": "3.10.13"
  }
 },
 "nbformat": 4,
 "nbformat_minor": 2
}
